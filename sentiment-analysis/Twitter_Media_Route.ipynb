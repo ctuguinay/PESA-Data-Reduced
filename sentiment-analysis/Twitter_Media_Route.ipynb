{
  "cells": [
    {
      "cell_type": "code",
      "execution_count": 1,
      "metadata": {
        "id": "QXnglIl74THw"
      },
      "outputs": [],
      "source": [
        "# !pip install tweepy==4.10.0\n",
        "# !pip install python-dotenv"
      ]
    },
    {
      "cell_type": "code",
      "execution_count": 2,
      "metadata": {
        "id": "CztM04S7JWxH"
      },
      "outputs": [],
      "source": [
        "import tweepy\n",
        "from dotenv import load_dotenv\n",
        "import os\n",
        "import csv\n",
        "import datetime\n",
        "import string"
      ]
    },
    {
      "cell_type": "code",
      "execution_count": 3,
      "metadata": {
        "id": "VQjIFYBfK5B1"
      },
      "outputs": [],
      "source": [
        "# Load device's environment. \n",
        "dotenv_path = os.path.abspath('twitter.env')\n",
        "load_dotenv(dotenv_path)\n",
        "\n",
        "# Get tokens.\n",
        "CONSUMER_KEY = os.environ['CONSUMER_KEY']\n",
        "CONSUMER_SECRET = os.environ['CONSUMER_SECRET']\n",
        "ACCESS_TOKEN = os.environ['ACCESS_TOKEN']\n",
        "ACCESS_TOKEN_SECRET = os.environ['ACCESS_TOKEN_SECRET']\n",
        "BEARER_TOKEN = os.environ['BEARER_TOKEN']\n",
        "\n",
        "# Authentication with Twitter.\n",
        "Client = tweepy.Client(bearer_token=BEARER_TOKEN, consumer_key=CONSUMER_KEY, \n",
        "consumer_secret=CONSUMER_SECRET, access_token=ACCESS_TOKEN, access_token_secret=ACCESS_TOKEN_SECRET)"
      ]
    },
    {
      "cell_type": "markdown",
      "metadata": {
        "id": "KOWmh_STsjzQ"
      },
      "source": [
        "# Get tweets from twitter and write into CSV\n",
        "\n",
        "\\#MarcosTheRealHero for positive sentiment (1)\n",
        "\n",
        "\\#MarcosNotAHero for negative sentiment (0)\n",
        "\n",
        "Output CSV is named `naive_labeled_data.csv` with two columns, `text` (the tweet) and `sentiment` (0 or 1)\n"
      ]
    },
    {
      "cell_type": "code",
      "execution_count": 4,
      "metadata": {
        "colab": {
          "base_uri": "https://localhost:8080/"
        },
        "id": "cxlOReyApBbn",
        "outputId": "5606b153-7456-4098-c28a-7123b9a43998"
      },
      "outputs": [
        {
          "data": {
            "text/plain": [
              "16"
            ]
          },
          "execution_count": 4,
          "metadata": {},
          "output_type": "execute_result"
        }
      ],
      "source": [
        "f = open('naive_labeled_data.csv', 'w+', encoding='UTF8', newline='')\n",
        "writer = csv.writer(f)\n",
        "writer.writerow(['text', 'sentiment'])"
      ]
    },
    {
      "cell_type": "code",
      "execution_count": 5,
      "metadata": {
        "id": "LvIdVd64Lddu"
      },
      "outputs": [],
      "source": [
        "HASHTAG = '#MarcosNotAHero'\n",
        "NUM_TWEETS = 100\n",
        "START_TIME = datetime.datetime(2022, 9, 7)"
      ]
    },
    {
      "cell_type": "code",
      "execution_count": 6,
      "metadata": {
        "id": "EjPTe88JNLGY"
      },
      "outputs": [],
      "source": [
        "tweets = Client.search_recent_tweets(query = HASHTAG, max_results = NUM_TWEETS, tweet_fields=['lang'])[0]\n"
      ]
    },
    {
      "cell_type": "code",
      "execution_count": 7,
      "metadata": {
        "id": "cNn9H37INZnE"
      },
      "outputs": [],
      "source": [
        "# Only include English Tweets\n",
        "for tweet in tweets:\n",
        "  if tweet.lang == 'en':\n",
        "    writer.writerow([tweet.text, '0'])"
      ]
    },
    {
      "cell_type": "code",
      "execution_count": 8,
      "metadata": {
        "id": "cVopnBkos4-q"
      },
      "outputs": [],
      "source": [
        "HASHTAG = '#BongBongMarcos' #MarcosTheRealHero"
      ]
    },
    {
      "cell_type": "code",
      "execution_count": 9,
      "metadata": {
        "id": "22VPquKRs4Bx"
      },
      "outputs": [],
      "source": [
        "tweets = Client.search_recent_tweets(query = HASHTAG, max_results = NUM_TWEETS, tweet_fields=['lang'])[0]"
      ]
    },
    {
      "cell_type": "code",
      "execution_count": 10,
      "metadata": {
        "id": "RC5LUC3ys_kq"
      },
      "outputs": [],
      "source": [
        "for tweet in tweets:\n",
        "  if tweet.lang == 'en':\n",
        "    writer.writerow([tweet.text, '1'])"
      ]
    },
    {
      "cell_type": "code",
      "execution_count": 11,
      "metadata": {
        "id": "6Gv_rmQCNi1d"
      },
      "outputs": [],
      "source": [
        "f.close()"
      ]
    },
    {
      "cell_type": "markdown",
      "metadata": {
        "id": "dKWlWTKWuXU6"
      },
      "source": [
        "# Reading & Cleaning Data"
      ]
    },
    {
      "cell_type": "code",
      "execution_count": 12,
      "metadata": {
        "id": "cxaFAeuLqQXB"
      },
      "outputs": [],
      "source": [
        "import pandas as pd\n",
        "import numpy as np\n",
        "import matplotlib.pyplot as plt\n",
        "%matplotlib inline"
      ]
    },
    {
      "cell_type": "code",
      "execution_count": 13,
      "metadata": {
        "id": "OSvb7-eVuuGZ"
      },
      "outputs": [],
      "source": [
        "data = pd.read_csv('naive_labeled_data.csv')"
      ]
    },
    {
      "cell_type": "code",
      "execution_count": 14,
      "metadata": {
        "colab": {
          "base_uri": "https://localhost:8080/",
          "height": 206
        },
        "id": "JxKtCEIdu4H5",
        "outputId": "b6cd5e78-95ad-449d-dc44-88e363a2d6c4"
      },
      "outputs": [
        {
          "data": {
            "text/html": [
              "\n",
              "  <div id=\"df-0d4d1888-e1e3-4121-a64b-0d7383347b54\">\n",
              "    <div class=\"colab-df-container\">\n",
              "      <div>\n",
              "<style scoped>\n",
              "    .dataframe tbody tr th:only-of-type {\n",
              "        vertical-align: middle;\n",
              "    }\n",
              "\n",
              "    .dataframe tbody tr th {\n",
              "        vertical-align: top;\n",
              "    }\n",
              "\n",
              "    .dataframe thead th {\n",
              "        text-align: right;\n",
              "    }\n",
              "</style>\n",
              "<table border=\"1\" class=\"dataframe\">\n",
              "  <thead>\n",
              "    <tr style=\"text-align: right;\">\n",
              "      <th></th>\n",
              "      <th>text</th>\n",
              "      <th>sentiment</th>\n",
              "    </tr>\n",
              "  </thead>\n",
              "  <tbody>\n",
              "    <tr>\n",
              "      <th>0</th>\n",
              "      <td>@PhilstarNews A dictator is a political leader...</td>\n",
              "      <td>0</td>\n",
              "    </tr>\n",
              "    <tr>\n",
              "      <th>1</th>\n",
              "      <td>Watched #KatipsTheMovie in Manila so I feel yo...</td>\n",
              "      <td>0</td>\n",
              "    </tr>\n",
              "    <tr>\n",
              "      <th>2</th>\n",
              "      <td>RT @__seav__: Yearly reminder: #MarcosNotAHero</td>\n",
              "      <td>0</td>\n",
              "    </tr>\n",
              "    <tr>\n",
              "      <th>3</th>\n",
              "      <td>RT @Frannyy: 11,103 film will premiere on Sep ...</td>\n",
              "      <td>0</td>\n",
              "    </tr>\n",
              "    <tr>\n",
              "      <th>4</th>\n",
              "      <td>@PhilstarNews Return what you and your family ...</td>\n",
              "      <td>0</td>\n",
              "    </tr>\n",
              "  </tbody>\n",
              "</table>\n",
              "</div>\n",
              "      <button class=\"colab-df-convert\" onclick=\"convertToInteractive('df-0d4d1888-e1e3-4121-a64b-0d7383347b54')\"\n",
              "              title=\"Convert this dataframe to an interactive table.\"\n",
              "              style=\"display:none;\">\n",
              "        \n",
              "  <svg xmlns=\"http://www.w3.org/2000/svg\" height=\"24px\"viewBox=\"0 0 24 24\"\n",
              "       width=\"24px\">\n",
              "    <path d=\"M0 0h24v24H0V0z\" fill=\"none\"/>\n",
              "    <path d=\"M18.56 5.44l.94 2.06.94-2.06 2.06-.94-2.06-.94-.94-2.06-.94 2.06-2.06.94zm-11 1L8.5 8.5l.94-2.06 2.06-.94-2.06-.94L8.5 2.5l-.94 2.06-2.06.94zm10 10l.94 2.06.94-2.06 2.06-.94-2.06-.94-.94-2.06-.94 2.06-2.06.94z\"/><path d=\"M17.41 7.96l-1.37-1.37c-.4-.4-.92-.59-1.43-.59-.52 0-1.04.2-1.43.59L10.3 9.45l-7.72 7.72c-.78.78-.78 2.05 0 2.83L4 21.41c.39.39.9.59 1.41.59.51 0 1.02-.2 1.41-.59l7.78-7.78 2.81-2.81c.8-.78.8-2.07 0-2.86zM5.41 20L4 18.59l7.72-7.72 1.47 1.35L5.41 20z\"/>\n",
              "  </svg>\n",
              "      </button>\n",
              "      \n",
              "  <style>\n",
              "    .colab-df-container {\n",
              "      display:flex;\n",
              "      flex-wrap:wrap;\n",
              "      gap: 12px;\n",
              "    }\n",
              "\n",
              "    .colab-df-convert {\n",
              "      background-color: #E8F0FE;\n",
              "      border: none;\n",
              "      border-radius: 50%;\n",
              "      cursor: pointer;\n",
              "      display: none;\n",
              "      fill: #1967D2;\n",
              "      height: 32px;\n",
              "      padding: 0 0 0 0;\n",
              "      width: 32px;\n",
              "    }\n",
              "\n",
              "    .colab-df-convert:hover {\n",
              "      background-color: #E2EBFA;\n",
              "      box-shadow: 0px 1px 2px rgba(60, 64, 67, 0.3), 0px 1px 3px 1px rgba(60, 64, 67, 0.15);\n",
              "      fill: #174EA6;\n",
              "    }\n",
              "\n",
              "    [theme=dark] .colab-df-convert {\n",
              "      background-color: #3B4455;\n",
              "      fill: #D2E3FC;\n",
              "    }\n",
              "\n",
              "    [theme=dark] .colab-df-convert:hover {\n",
              "      background-color: #434B5C;\n",
              "      box-shadow: 0px 1px 3px 1px rgba(0, 0, 0, 0.15);\n",
              "      filter: drop-shadow(0px 1px 2px rgba(0, 0, 0, 0.3));\n",
              "      fill: #FFFFFF;\n",
              "    }\n",
              "  </style>\n",
              "\n",
              "      <script>\n",
              "        const buttonEl =\n",
              "          document.querySelector('#df-0d4d1888-e1e3-4121-a64b-0d7383347b54 button.colab-df-convert');\n",
              "        buttonEl.style.display =\n",
              "          google.colab.kernel.accessAllowed ? 'block' : 'none';\n",
              "\n",
              "        async function convertToInteractive(key) {\n",
              "          const element = document.querySelector('#df-0d4d1888-e1e3-4121-a64b-0d7383347b54');\n",
              "          const dataTable =\n",
              "            await google.colab.kernel.invokeFunction('convertToInteractive',\n",
              "                                                     [key], {});\n",
              "          if (!dataTable) return;\n",
              "\n",
              "          const docLinkHtml = 'Like what you see? Visit the ' +\n",
              "            '<a target=\"_blank\" href=https://colab.research.google.com/notebooks/data_table.ipynb>data table notebook</a>'\n",
              "            + ' to learn more about interactive tables.';\n",
              "          element.innerHTML = '';\n",
              "          dataTable['output_type'] = 'display_data';\n",
              "          await google.colab.output.renderOutput(dataTable, element);\n",
              "          const docLink = document.createElement('div');\n",
              "          docLink.innerHTML = docLinkHtml;\n",
              "          element.appendChild(docLink);\n",
              "        }\n",
              "      </script>\n",
              "    </div>\n",
              "  </div>\n",
              "  "
            ],
            "text/plain": [
              "                                                text  sentiment\n",
              "0  @PhilstarNews A dictator is a political leader...          0\n",
              "1  Watched #KatipsTheMovie in Manila so I feel yo...          0\n",
              "2     RT @__seav__: Yearly reminder: #MarcosNotAHero          0\n",
              "3  RT @Frannyy: 11,103 film will premiere on Sep ...          0\n",
              "4  @PhilstarNews Return what you and your family ...          0"
            ]
          },
          "execution_count": 14,
          "metadata": {},
          "output_type": "execute_result"
        }
      ],
      "source": [
        "data.head()"
      ]
    },
    {
      "cell_type": "code",
      "execution_count": 15,
      "metadata": {
        "id": "x611-c5PxPHt"
      },
      "outputs": [],
      "source": [
        "data = data.convert_dtypes()"
      ]
    },
    {
      "cell_type": "code",
      "execution_count": 16,
      "metadata": {
        "colab": {
          "base_uri": "https://localhost:8080/"
        },
        "id": "6yPJu4ZcyBYA",
        "outputId": "dcf8523a-2249-4eb1-d12f-ea63afdb2cac"
      },
      "outputs": [
        {
          "name": "stdout",
          "output_type": "stream",
          "text": [
            "<class 'pandas.core.frame.DataFrame'>\n",
            "RangeIndex: 80 entries, 0 to 79\n",
            "Data columns (total 2 columns):\n",
            " #   Column     Non-Null Count  Dtype \n",
            "---  ------     --------------  ----- \n",
            " 0   text       80 non-null     string\n",
            " 1   sentiment  80 non-null     Int64 \n",
            "dtypes: Int64(1), string(1)\n",
            "memory usage: 1.5 KB\n"
          ]
        }
      ],
      "source": [
        "data.info()"
      ]
    },
    {
      "cell_type": "code",
      "execution_count": 17,
      "metadata": {
        "colab": {
          "base_uri": "https://localhost:8080/",
          "height": 282
        },
        "id": "tQoqq_UEu47v",
        "outputId": "df2b5a75-6d14-4846-fbf9-6ae2002a6d73"
      },
      "outputs": [
        {
          "data": {
            "text/plain": [
              "<matplotlib.axes._subplots.AxesSubplot at 0x7f6ee10810d0>"
            ]
          },
          "execution_count": 17,
          "metadata": {},
          "output_type": "execute_result"
        },
        {
          "data": {
            "image/png": "[encoded data removed]",
            "text/plain": [
              "<Figure size 432x288 with 1 Axes>"
            ]
          },
          "metadata": {
            "needs_background": "light"
          },
          "output_type": "display_data"
        }
      ],
      "source": [
        "data.sentiment.hist()"
      ]
    },
    {
      "cell_type": "code",
      "execution_count": 18,
      "metadata": {
        "colab": {
          "base_uri": "https://localhost:8080/"
        },
        "id": "MmbDC7uBveuh",
        "outputId": "c097cb19-60bd-45ff-d493-bd13b48648c4"
      },
      "outputs": [
        {
          "data": {
            "text/plain": [
              "(80, 2)"
            ]
          },
          "execution_count": 18,
          "metadata": {},
          "output_type": "execute_result"
        }
      ],
      "source": [
        "data.shape"
      ]
    },
    {
      "cell_type": "code",
      "execution_count": 19,
      "metadata": {
        "id": "qsg1AFIAvPJZ"
      },
      "outputs": [],
      "source": [
        "data.drop_duplicates(inplace=True)"
      ]
    },
    {
      "cell_type": "code",
      "execution_count": 20,
      "metadata": {
        "colab": {
          "base_uri": "https://localhost:8080/"
        },
        "id": "ttSVSjhpvl7p",
        "outputId": "4c9bf4da-e85b-4461-fbc2-a7278e5e3046"
      },
      "outputs": [
        {
          "data": {
            "text/plain": [
              "(56, 2)"
            ]
          },
          "execution_count": 20,
          "metadata": {},
          "output_type": "execute_result"
        }
      ],
      "source": [
        "data.shape"
      ]
    },
    {
      "cell_type": "code",
      "execution_count": 21,
      "metadata": {
        "colab": {
          "base_uri": "https://localhost:8080/",
          "height": 282
        },
        "id": "XE-57BqVwAy5",
        "outputId": "c976aadd-c3dd-4959-825e-4bccd9649c71"
      },
      "outputs": [
        {
          "data": {
            "text/plain": [
              "<matplotlib.axes._subplots.AxesSubplot at 0x7f6edec98a90>"
            ]
          },
          "execution_count": 21,
          "metadata": {},
          "output_type": "execute_result"
        },
        {
          "data": {
            "image/png": "[encoded data removed]",
            "text/plain": [
              "<Figure size 432x288 with 1 Axes>"
            ]
          },
          "metadata": {
            "needs_background": "light"
          },
          "output_type": "display_data"
        }
      ],
      "source": [
        "data.sentiment.hist()"
      ]
    },
    {
      "cell_type": "markdown",
      "metadata": {
        "id": "WL-zzwcnw-7W"
      },
      "source": [
        "## Remove punctudation"
      ]
    },
    {
      "cell_type": "code",
      "execution_count": 22,
      "metadata": {
        "id": "77zne7yfv_b3"
      },
      "outputs": [],
      "source": [
        "def remove_punctuation(text):\n",
        "    if type(text) != str:\n",
        "        return ''\n",
        "    return text.translate(str.maketrans('', '', string.punctuation))\n",
        "\n",
        "data['clean_text'] = data['text'].apply(remove_punctuation)"
      ]
    },
    {
      "cell_type": "code",
      "execution_count": 23,
      "metadata": {
        "colab": {
          "base_uri": "https://localhost:8080/",
          "height": 206
        },
        "id": "ti_dVUWMyKYc",
        "outputId": "d9a1c173-ee71-442f-8257-77f598e060a6"
      },
      "outputs": [
        {
          "data": {
            "text/html": [
              "\n",
              "  <div id=\"df-107353f2-fc99-49ec-8462-fe421a91fca7\">\n",
              "    <div class=\"colab-df-container\">\n",
              "      <div>\n",
              "<style scoped>\n",
              "    .dataframe tbody tr th:only-of-type {\n",
              "        vertical-align: middle;\n",
              "    }\n",
              "\n",
              "    .dataframe tbody tr th {\n",
              "        vertical-align: top;\n",
              "    }\n",
              "\n",
              "    .dataframe thead th {\n",
              "        text-align: right;\n",
              "    }\n",
              "</style>\n",
              "<table border=\"1\" class=\"dataframe\">\n",
              "  <thead>\n",
              "    <tr style=\"text-align: right;\">\n",
              "      <th></th>\n",
              "      <th>text</th>\n",
              "      <th>sentiment</th>\n",
              "      <th>clean_text</th>\n",
              "    </tr>\n",
              "  </thead>\n",
              "  <tbody>\n",
              "    <tr>\n",
              "      <th>0</th>\n",
              "      <td>@PhilstarNews A dictator is a political leader...</td>\n",
              "      <td>0</td>\n",
              "      <td>PhilstarNews A dictator is a political leader ...</td>\n",
              "    </tr>\n",
              "    <tr>\n",
              "      <th>1</th>\n",
              "      <td>Watched #KatipsTheMovie in Manila so I feel yo...</td>\n",
              "      <td>0</td>\n",
              "      <td>Watched KatipsTheMovie in Manila so I feel you...</td>\n",
              "    </tr>\n",
              "    <tr>\n",
              "      <th>2</th>\n",
              "      <td>RT @__seav__: Yearly reminder: #MarcosNotAHero</td>\n",
              "      <td>0</td>\n",
              "      <td>RT seav Yearly reminder MarcosNotAHero</td>\n",
              "    </tr>\n",
              "    <tr>\n",
              "      <th>3</th>\n",
              "      <td>RT @Frannyy: 11,103 film will premiere on Sep ...</td>\n",
              "      <td>0</td>\n",
              "      <td>RT Frannyy 11103 film will premiere on Sep 21 ...</td>\n",
              "    </tr>\n",
              "    <tr>\n",
              "      <th>4</th>\n",
              "      <td>@PhilstarNews Return what you and your family ...</td>\n",
              "      <td>0</td>\n",
              "      <td>PhilstarNews Return what you and your family s...</td>\n",
              "    </tr>\n",
              "  </tbody>\n",
              "</table>\n",
              "</div>\n",
              "      <button class=\"colab-df-convert\" onclick=\"convertToInteractive('df-107353f2-fc99-49ec-8462-fe421a91fca7')\"\n",
              "              title=\"Convert this dataframe to an interactive table.\"\n",
              "              style=\"display:none;\">\n",
              "        \n",
              "  <svg xmlns=\"http://www.w3.org/2000/svg\" height=\"24px\"viewBox=\"0 0 24 24\"\n",
              "       width=\"24px\">\n",
              "    <path d=\"M0 0h24v24H0V0z\" fill=\"none\"/>\n",
              "    <path d=\"M18.56 5.44l.94 2.06.94-2.06 2.06-.94-2.06-.94-.94-2.06-.94 2.06-2.06.94zm-11 1L8.5 8.5l.94-2.06 2.06-.94-2.06-.94L8.5 2.5l-.94 2.06-2.06.94zm10 10l.94 2.06.94-2.06 2.06-.94-2.06-.94-.94-2.06-.94 2.06-2.06.94z\"/><path d=\"M17.41 7.96l-1.37-1.37c-.4-.4-.92-.59-1.43-.59-.52 0-1.04.2-1.43.59L10.3 9.45l-7.72 7.72c-.78.78-.78 2.05 0 2.83L4 21.41c.39.39.9.59 1.41.59.51 0 1.02-.2 1.41-.59l7.78-7.78 2.81-2.81c.8-.78.8-2.07 0-2.86zM5.41 20L4 18.59l7.72-7.72 1.47 1.35L5.41 20z\"/>\n",
              "  </svg>\n",
              "      </button>\n",
              "      \n",
              "  <style>\n",
              "    .colab-df-container {\n",
              "      display:flex;\n",
              "      flex-wrap:wrap;\n",
              "      gap: 12px;\n",
              "    }\n",
              "\n",
              "    .colab-df-convert {\n",
              "      background-color: #E8F0FE;\n",
              "      border: none;\n",
              "      border-radius: 50%;\n",
              "      cursor: pointer;\n",
              "      display: none;\n",
              "      fill: #1967D2;\n",
              "      height: 32px;\n",
              "      padding: 0 0 0 0;\n",
              "      width: 32px;\n",
              "    }\n",
              "\n",
              "    .colab-df-convert:hover {\n",
              "      background-color: #E2EBFA;\n",
              "      box-shadow: 0px 1px 2px rgba(60, 64, 67, 0.3), 0px 1px 3px 1px rgba(60, 64, 67, 0.15);\n",
              "      fill: #174EA6;\n",
              "    }\n",
              "\n",
              "    [theme=dark] .colab-df-convert {\n",
              "      background-color: #3B4455;\n",
              "      fill: #D2E3FC;\n",
              "    }\n",
              "\n",
              "    [theme=dark] .colab-df-convert:hover {\n",
              "      background-color: #434B5C;\n",
              "      box-shadow: 0px 1px 3px 1px rgba(0, 0, 0, 0.15);\n",
              "      filter: drop-shadow(0px 1px 2px rgba(0, 0, 0, 0.3));\n",
              "      fill: #FFFFFF;\n",
              "    }\n",
              "  </style>\n",
              "\n",
              "      <script>\n",
              "        const buttonEl =\n",
              "          document.querySelector('#df-107353f2-fc99-49ec-8462-fe421a91fca7 button.colab-df-convert');\n",
              "        buttonEl.style.display =\n",
              "          google.colab.kernel.accessAllowed ? 'block' : 'none';\n",
              "\n",
              "        async function convertToInteractive(key) {\n",
              "          const element = document.querySelector('#df-107353f2-fc99-49ec-8462-fe421a91fca7');\n",
              "          const dataTable =\n",
              "            await google.colab.kernel.invokeFunction('convertToInteractive',\n",
              "                                                     [key], {});\n",
              "          if (!dataTable) return;\n",
              "\n",
              "          const docLinkHtml = 'Like what you see? Visit the ' +\n",
              "            '<a target=\"_blank\" href=https://colab.research.google.com/notebooks/data_table.ipynb>data table notebook</a>'\n",
              "            + ' to learn more about interactive tables.';\n",
              "          element.innerHTML = '';\n",
              "          dataTable['output_type'] = 'display_data';\n",
              "          await google.colab.output.renderOutput(dataTable, element);\n",
              "          const docLink = document.createElement('div');\n",
              "          docLink.innerHTML = docLinkHtml;\n",
              "          element.appendChild(docLink);\n",
              "        }\n",
              "      </script>\n",
              "    </div>\n",
              "  </div>\n",
              "  "
            ],
            "text/plain": [
              "                                                text  sentiment  \\\n",
              "0  @PhilstarNews A dictator is a political leader...          0   \n",
              "1  Watched #KatipsTheMovie in Manila so I feel yo...          0   \n",
              "2     RT @__seav__: Yearly reminder: #MarcosNotAHero          0   \n",
              "3  RT @Frannyy: 11,103 film will premiere on Sep ...          0   \n",
              "4  @PhilstarNews Return what you and your family ...          0   \n",
              "\n",
              "                                          clean_text  \n",
              "0  PhilstarNews A dictator is a political leader ...  \n",
              "1  Watched KatipsTheMovie in Manila so I feel you...  \n",
              "2             RT seav Yearly reminder MarcosNotAHero  \n",
              "3  RT Frannyy 11103 film will premiere on Sep 21 ...  \n",
              "4  PhilstarNews Return what you and your family s...  "
            ]
          },
          "execution_count": 23,
          "metadata": {},
          "output_type": "execute_result"
        }
      ],
      "source": [
        "data.head()"
      ]
    },
    {
      "cell_type": "code",
      "execution_count": 24,
      "metadata": {
        "id": "z-PTPQlS4WIC"
      },
      "outputs": [],
      "source": [
        "data = data.astype({'sentiment': 'int', 'clean_text': 'string'})"
      ]
    },
    {
      "cell_type": "code",
      "execution_count": 25,
      "metadata": {
        "id": "I7ELscuTyK5R"
      },
      "outputs": [],
      "source": [
        "from sklearn.feature_extraction.text import TfidfVectorizer\n",
        "\n",
        "vectorizer = TfidfVectorizer(max_df=0.95, lowercase=True)  # ignore words with very high doc frequency\n",
        "tf_idf = vectorizer.fit_transform(data['clean_text'])\n",
        "words = vectorizer.get_feature_names_out()"
      ]
    },
    {
      "cell_type": "code",
      "execution_count": 27,
      "metadata": {
        "id": "FdLjRVZ1yl3z"
      },
      "outputs": [],
      "source": [
        "from sklearn.preprocessing import normalize\n",
        "tf_idf = normalize(tf_idf)"
      ]
    },
    {
      "cell_type": "code",
      "execution_count": 28,
      "metadata": {
        "colab": {
          "base_uri": "https://localhost:8080/"
        },
        "id": "lyCWBT6qyrKY",
        "outputId": "a1304f9a-6364-4360-8a48-660f00fe70ff"
      },
      "outputs": [
        {
          "data": {
            "text/plain": [
              "(56, 491)"
            ]
          },
          "execution_count": 28,
          "metadata": {},
          "output_type": "execute_result"
        }
      ],
      "source": [
        "tf_idf = tf_idf.toarray()\n",
        "tf_idf.shape"
      ]
    },
    {
      "cell_type": "code",
      "execution_count": 29,
      "metadata": {
        "colab": {
          "base_uri": "https://localhost:8080/"
        },
        "id": "3ZEa9rrHy3j0",
        "outputId": "1a559491-8c32-4f8e-c3ff-3415d7cc5760"
      },
      "outputs": [
        {
          "data": {
            "text/plain": [
              "(56,)"
            ]
          },
          "execution_count": 29,
          "metadata": {},
          "output_type": "execute_result"
        }
      ],
      "source": [
        "y = data.sentiment\n",
        "y.shape"
      ]
    },
    {
      "cell_type": "markdown",
      "metadata": {
        "id": "af5yCEoh38Nl"
      },
      "source": [
        "# Train data using various models"
      ]
    },
    {
      "cell_type": "code",
      "execution_count": 30,
      "metadata": {
        "id": "UAIxq5eA1acg"
      },
      "outputs": [],
      "source": [
        "from sklearn.model_selection import train_test_split"
      ]
    },
    {
      "cell_type": "code",
      "execution_count": 44,
      "metadata": {
        "id": "oMzPBVZC1oMb"
      },
      "outputs": [],
      "source": [
        "X_train, X_test, y_train, y_test = train_test_split(tf_idf, y, test_size= .2)"
      ]
    },
    {
      "cell_type": "code",
      "execution_count": 45,
      "metadata": {
        "colab": {
          "base_uri": "https://localhost:8080/"
        },
        "id": "uBEzVaDg13oL",
        "outputId": "c454977d-9d1c-4ef3-a65b-a54e7221aba7"
      },
      "outputs": [
        {
          "data": {
            "text/plain": [
              "0.34090909090909094"
            ]
          },
          "execution_count": 45,
          "metadata": {},
          "output_type": "execute_result"
        }
      ],
      "source": [
        "1- np.mean(y_train) # naive accuracy baseline"
      ]
    },
    {
      "cell_type": "code",
      "execution_count": 72,
      "metadata": {
        "id": "723TjW8_zDU5"
      },
      "outputs": [],
      "source": [
        "from sklearn.linear_model import LogisticRegression\n",
        "from sklearn.svm import SVC\n",
        "from sklearn.naive_bayes import MultinomialNB\n",
        "from sklearn.tree import DecisionTreeClassifier\n",
        "from sklearn.neighbors import KNeighborsClassifier\n",
        "from sklearn.ensemble import RandomForestClassifier\n",
        "from sklearn.ensemble import AdaBoostClassifier\n",
        "from sklearn.metrics import accuracy_score"
      ]
    },
    {
      "cell_type": "code",
      "execution_count": 73,
      "metadata": {
        "id": "Dk4hOrmc8Bb8"
      },
      "outputs": [],
      "source": [
        "svc = SVC(kernel='sigmoid', gamma=1.0)\n",
        "knc = KNeighborsClassifier(n_neighbors=5)\n",
        "mnb = MultinomialNB(alpha=0.2)\n",
        "dtc = DecisionTreeClassifier(min_samples_split=2)\n",
        "lrc = LogisticRegression(solver='liblinear', penalty='l1')\n",
        "rfc = RandomForestClassifier(n_estimators=31)\n",
        "ada = AdaBoostClassifier()"
      ]
    },
    {
      "cell_type": "code",
      "execution_count": 74,
      "metadata": {
        "id": "Ld4OiECo8QcI"
      },
      "outputs": [],
      "source": [
        "classifiers = {'SVC' : svc,'KNeighborsClassifier' : knc, 'Multinomial Naive Bayes': mnb, 'Decision Tree': dtc, 'Logistic Regression': lrc, 'Random Forest': rfc, 'AdaBoost': ada}"
      ]
    },
    {
      "cell_type": "code",
      "execution_count": 75,
      "metadata": {
        "id": "5cUfXASO5-TO"
      },
      "outputs": [],
      "source": [
        "from sklearn.metrics import confusion_matrix, accuracy_score\n",
        "from sklearn.model_selection import cross_val_score"
      ]
    },
    {
      "cell_type": "code",
      "execution_count": 77,
      "metadata": {
        "id": "yeYYG11r8rjI"
      },
      "outputs": [],
      "source": [
        "model_pred_scores = []\n",
        "for k, m in classifiers.items():\n",
        "  m.fit(X_train, y_train)\n",
        "  y_hat = m.predict(X_test)\n",
        "  model_pred_scores.append((k, [accuracy_score(y_test , y_hat)]))"
      ]
    },
    {
      "cell_type": "code",
      "execution_count": null,
      "metadata": {
        "id": "twvChVEh8WHZ"
      },
      "outputs": [],
      "source": [
        "cross_val_model_pred_scores = []\n",
        "for k, m in classifiers.items():\n",
        "  scores = cross_val_score(m, X_test, y_test, cv=5)\n",
        "  cross_val_model_pred_scores.append((k, scores.mean()))"
      ]
    },
    {
      "cell_type": "code",
      "execution_count": 79,
      "metadata": {
        "colab": {
          "base_uri": "https://localhost:8080/"
        },
        "id": "kIoPikDi-OIl",
        "outputId": "1ccb7210-d457-42b5-8a80-ca6575186e4d"
      },
      "outputs": [
        {
          "data": {
            "text/plain": [
              "[('SVC', [1.0]),\n",
              " ('KNeighborsClassifier', [0.9166666666666666]),\n",
              " ('Multinomial Naive Bayes', [1.0]),\n",
              " ('Decision Tree', [0.9166666666666666]),\n",
              " ('Logistic Regression', [0.8333333333333334]),\n",
              " ('Random Forest', [0.9166666666666666]),\n",
              " ('AdaBoost', [0.9166666666666666])]"
            ]
          },
          "execution_count": 79,
          "metadata": {},
          "output_type": "execute_result"
        }
      ],
      "source": [
        "model_pred_scores"
      ]
    },
    {
      "cell_type": "code",
      "execution_count": 80,
      "metadata": {
        "colab": {
          "base_uri": "https://localhost:8080/"
        },
        "id": "a84j7-8h-0T1",
        "outputId": "69ddcdee-b9ec-4606-9d5c-642d6c0eb56e"
      },
      "outputs": [
        {
          "data": {
            "text/plain": [
              "[('SVC', 0.6666666666666666),\n",
              " ('KNeighborsClassifier', 0.6666666666666666),\n",
              " ('Multinomial Naive Bayes', 0.6666666666666666),\n",
              " ('Decision Tree', 0.8333333333333333),\n",
              " ('Logistic Regression', 0.4666666666666666),\n",
              " ('Random Forest', 0.8),\n",
              " ('AdaBoost', 0.8333333333333333)]"
            ]
          },
          "execution_count": 80,
          "metadata": {},
          "output_type": "execute_result"
        }
      ],
      "source": [
        "cross_val_model_pred_scores"
      ]
    }
  ],
  "metadata": {
    "colab": {
      "collapsed_sections": [],
      "provenance": []
    },
    "kernelspec": {
      "display_name": "Python 3.10.7 64-bit",
      "language": "python",
      "name": "python3"
    },
    "language_info": {
      "name": "python",
      "version": "3.10.7"
    },
    "vscode": {
      "interpreter": {
        "hash": "63ff4dc2dd031f4852d607fdb3ec67fe08a87deee7c75aae11edc48254a35360"
      }
    }
  },
  "nbformat": 4,
  "nbformat_minor": 0
}
